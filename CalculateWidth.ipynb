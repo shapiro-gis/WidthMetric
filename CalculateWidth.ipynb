{
 "cells": [
  {
   "cell_type": "code",
   "execution_count": null,
   "metadata": {},
   "outputs": [],
   "source": [
    "#Import libraries\n",
    "import geopandas as gpd\n",
    "import pandas as pd\n",
    "from math import cos, sin, radians\n",
    "from shapely.geometry import Point, LineString\n",
    "from multiprocessing import Pool\n",
    "from pqdm.processes import pqdm\n",
    "import logging\n",
    "from joblib import Parallel, delayed"
   ]
  },
  {
   "cell_type": "code",
   "execution_count": 2,
   "metadata": {},
   "outputs": [],
   "source": [
    "#Read in polygon or line data to be used for distance calculation\n",
    "\n",
    "polygon_layer = gpd.read_file('C:/Users/cowboy/Documents/width-use-test/Sample_Data/Buildings.shp')"
   ]
  },
  {
   "cell_type": "code",
   "execution_count": 3,
   "metadata": {},
   "outputs": [],
   "source": [
    "# Read in your fishent centroid shapefiles generated from CreateFishnet script\n",
    "\n",
    "point_layer = gpd.read_file('C:/Users/cowboy/Documents/width-use-test/Sample_Data/FishnetCentroids30m.shp')"
   ]
  },
  {
   "cell_type": "code",
   "execution_count": 4,
   "metadata": {},
   "outputs": [],
   "source": [
    "#Check your projection and make sure it's in meters\n",
    "polygon_layer = polygon_layer.to_crs(epsg=32612) #Make sure it's in meters\n",
    "point_layer = point_layer.to_crs(epsg=32612) #Make sure it's in meters"
   ]
  },
  {
   "cell_type": "code",
   "execution_count": null,
   "metadata": {},
   "outputs": [],
   "source": [
    "# Configure logging\n",
    "logging.basicConfig(level=logging.INFO, format='%(asctime)s - %(levelname)s - %(message)s')\n",
    "max_distance = 5000 # Adjust this value depending on the maximum distance for the line\n",
    "\n",
    "def process_point(point_idx, point_gdf, increment, max_distance, sindex, polygon_gdf):\n",
    "    logging.info(f\"Processing point index {point_idx}...\")\n",
    "    \n",
    "    # Generate angles and offsets for search\n",
    "    angles = range(0, 360, increment)\n",
    "    xy_offsets = [(max_distance * cos(radians(angle)), max_distance * sin(radians(angle))) for angle in angles]\n",
    "    \n",
    "    # Get the geometry of the point\n",
    "    point_a = point_gdf.loc[point_idx].geometry\n",
    "    \n",
    "    # Check for nearby polygons using buffer\n",
    "    buffer = point_a.buffer(max_distance)\n",
    "    possible_matches = polygon_gdf.iloc[list(sindex.intersection(buffer.bounds))]\n",
    "    precise_matches = possible_matches[possible_matches.intersects(buffer)]\n",
    "    \n",
    "    # If no matches, return default values\n",
    "    if precise_matches.empty:\n",
    "        return (point_a, [(angle, None, None, max_distance) for angle in angles], [(angle, max_distance, (angle + 180) % 360, max_distance) for angle in angles])\n",
    "    \n",
    "    # Process each angle\n",
    "    point_results, opposite_results = [], []\n",
    "    for angle, (x_offset, y_offset) in zip(angles, xy_offsets):\n",
    "        endpoint = Point(point_a.x + x_offset, point_a.y + y_offset)\n",
    "        line = LineString([point_a, endpoint])\n",
    "        \n",
    "        # Calculate distances to intersections\n",
    "        intersections = precise_matches[precise_matches.intersects(line)].geometry.intersection(line)\n",
    "        distances = intersections.distance(point_a)\n",
    "        \n",
    "        # Determine closest intersection\n",
    "        if not distances.empty:\n",
    "            min_distance_idx = distances.idxmin()\n",
    "            closest_distance = distances[min_distance_idx]\n",
    "            closest_intersection = intersections[min_distance_idx]\n",
    "            if closest_intersection.geom_type == 'LineString':\n",
    "                closest_intersection = closest_intersection.interpolate(closest_intersection.project(point_a))\n",
    "        else:\n",
    "            closest_distance, closest_intersection = max_distance, None\n",
    "        \n",
    "        point_results.append((angle, line, closest_intersection, closest_distance))\n",
    "    \n",
    "    # Calculate opposite distances in the same loop\n",
    "    for angle_idx, (angle, _, _, distance) in enumerate(point_results):\n",
    "        opposite_angle = (angle + 180) % 360\n",
    "        opposite_distance = point_results[(angle_idx + len(angles) // 2) % len(angles)][3]\n",
    "        opposite_results.append((angle, distance, opposite_angle, opposite_distance))\n",
    "    \n",
    "    return (point_a, point_results, opposite_results)\n",
    "\n",
    "# Main function for processing minimum distances\n",
    "def calculate_minimum_distances_batched(point_layer, polygon_layer, increment, max_distance, batch_size=500):\n",
    "    point_gdf = gpd.GeoDataFrame(geometry=point_layer.geometry) if not isinstance(point_layer, gpd.GeoDataFrame) else point_layer\n",
    "    polygon_gdf = gpd.GeoDataFrame(geometry=polygon_layer.geometry) if not isinstance(polygon_layer, gpd.GeoDataFrame) else polygon_layer\n",
    "    sindex = polygon_gdf.sindex\n",
    "    total_points = len(point_gdf)\n",
    "    \n",
    "    logging.info(f\"Total points to process: {total_points}\")\n",
    "    \n",
    "    # Process points in parallel\n",
    "    results = Parallel(n_jobs=8)(\n",
    "        delayed(process_point)(point_idx, point_gdf, increment, max_distance, sindex, polygon_gdf)\n",
    "        for point_idx in range(total_points)\n",
    "    )\n",
    "    \n",
    "    # Flatten results and create DataFrame\n",
    "    data = [\n",
    "        (point_idx + 1, point, line, intersection_point, angle, distance, opposite_angle, opposite_distance)\n",
    "        for point_idx, (point, point_results, opposite_results) in enumerate(results)\n",
    "        for (angle, line, intersection_point, distance), (_, _, opposite_angle, opposite_distance) in zip(point_results, opposite_results)\n",
    "    ]\n",
    "    df = pd.DataFrame(data, columns=['ID', 'Point', 'Line', 'Intersection Point', 'Angle', 'Distance to Intersection', 'Opposite Angle', 'Opposite Distance'])\n",
    "    \n",
    "    # Calculate total distance and find minimum distances\n",
    "    df['Total Distance'] = df['Distance to Intersection'] + df['Opposite Distance']\n",
    "    final_results = df.loc[df.groupby('ID')['Total Distance'].idxmin()].reset_index(drop=True)\n",
    "    \n",
    "    logging.info(\"Processing completed!\")\n",
    "    return final_results\n",
    "\n"
   ]
  },
  {
   "cell_type": "code",
   "execution_count": null,
   "metadata": {},
   "outputs": [],
   "source": [
    "result_df = calculate_minimum_distances_batched(point_layer, polygon_layer, 1, max_distance)"
   ]
  },
  {
   "cell_type": "code",
   "execution_count": null,
   "metadata": {},
   "outputs": [],
   "source": [
    "result_df"
   ]
  },
  {
   "cell_type": "code",
   "execution_count": null,
   "metadata": {},
   "outputs": [],
   "source": [
    "#Export out the centorid with the total minimum distance and angle pair\n",
    "df2 = result_df.drop('Line', axis=1)\n",
    "df2 = df2.drop('Intersection Point', axis=1)\n",
    "\n",
    "gdf = gpd.GeoDataFrame(df2, geometry='Point')\n",
    "\n",
    "# Export the GeoDataFrame as a shapefile\n",
    "output_shapefile = 'C:/Users/cowboy/Documents/WidthMetric/Sample_Data/MinimumDistances30m.shp'\n",
    "gdf.to_file(output_shapefile)"
   ]
  }
 ],
 "metadata": {
  "kernelspec": {
   "display_name": "base",
   "language": "python",
   "name": "python3"
  },
  "language_info": {
   "codemirror_mode": {
    "name": "ipython",
    "version": 3
   },
   "file_extension": ".py",
   "mimetype": "text/x-python",
   "name": "python",
   "nbconvert_exporter": "python",
   "pygments_lexer": "ipython3",
   "version": "3.10.12"
  }
 },
 "nbformat": 4,
 "nbformat_minor": 2
}
