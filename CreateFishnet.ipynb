{
 "cells": [
  {
   "cell_type": "code",
   "execution_count": 7,
   "metadata": {},
   "outputs": [],
   "source": [
    "#Import Libraries\n",
    "\n",
    "import geopandas as gpd\n",
    "import pandas as pd\n",
    "from math import cos, sin, radians\n",
    "from shapely.geometry import Point, LineString, Polygon\n",
    "from multiprocessing import Pool\n",
    "import numpy as np"
   ]
  },
  {
   "cell_type": "code",
   "execution_count": null,
   "metadata": {},
   "outputs": [],
   "source": [
    "#Select study extent shapefile to create the fishnet from\n",
    "polygon_layer = gpd.read_file('C:/Users/cowboy/Documents/WidthMetric/Sample_Data/StudyExtent.shp')"
   ]
  },
  {
   "cell_type": "code",
   "execution_count": null,
   "metadata": {},
   "outputs": [],
   "source": [
    "#Project polygon to meters\n",
    "polygon_layer = polygon_layer.to_crs(epsg=32612)"
   ]
  },
  {
   "cell_type": "code",
   "execution_count": null,
   "metadata": {},
   "outputs": [],
   "source": [
    "### Create your fishnet ###\n",
    "\n",
    "# Read the shapefile using geopandas\n",
    "shapefile = polygon_layer\n",
    "\n",
    "# Define the desired cell size for the fishnet grid\n",
    "cell_width = 30  # Replace with your desired cell width in the map units\n",
    "cell_height = 30  # Replace with your desired cell height in the map units\n",
    "\n",
    "# Calculate the extent of the fishnet grid based on the shapefile's bounding box\n",
    "xmin, ymin, xmax, ymax = shapefile.total_bounds\n",
    "\n",
    "# Calculate the actual number of rows and columns based on the desired cell size\n",
    "num_rows = int((ymax - ymin) / cell_height)\n",
    "num_cols = int((xmax - xmin) / cell_width)\n",
    "\n",
    "# Create the fishnet grid polygons\n",
    "fishnet_polys = []\n",
    "centroids = []\n",
    "for row in range(num_rows):\n",
    "    y_start = ymin + (row * cell_height)\n",
    "    y_end = y_start + cell_height\n",
    "    for col in range(num_cols):\n",
    "        x_start = xmin + (col * cell_width)\n",
    "        x_end = x_start + cell_width\n",
    "        poly = Polygon([(x_start, y_start), (x_end, y_start), (x_end, y_end), (x_start, y_end)])\n",
    "        fishnet_polys.append(poly)\n",
    "        centroid = poly.centroid\n",
    "        centroids.append(centroid)\n",
    "\n",
    "# Create a geodataframe from the fishnet polygons\n",
    "fishnet_grid = gpd.GeoDataFrame(geometry=fishnet_polys, crs=shapefile.crs)\n",
    "\n",
    "# Create a geodataframe for the centroids\n",
    "centroids_gdf = gpd.GeoDataFrame(geometry=centroids, crs=shapefile.crs)\n",
    "\n",
    "# Save the fishnet grid and centroids as separate shapefiles\n",
    "output_grid_path = 'C:/Users/cowboy/Documents/WidthMetric/Sample_Data/FishnetGrid30m.shp'\n",
    "output_centroids_path = 'C:/Users/cowboy/Documents/WidthMetric/Sample_Data/FishnetCentroids30m.shp'\n",
    "fishnet_grid.to_file(output_grid_path)\n",
    "centroids_gdf.to_file(output_centroids_path)"
   ]
  }
 ],
 "metadata": {
  "kernelspec": {
   "display_name": "base",
   "language": "python",
   "name": "python3"
  },
  "language_info": {
   "codemirror_mode": {
    "name": "ipython",
    "version": 3
   },
   "file_extension": ".py",
   "mimetype": "text/x-python",
   "name": "python",
   "nbconvert_exporter": "python",
   "pygments_lexer": "ipython3",
   "version": "3.10.12"
  },
  "orig_nbformat": 4
 },
 "nbformat": 4,
 "nbformat_minor": 2
}
